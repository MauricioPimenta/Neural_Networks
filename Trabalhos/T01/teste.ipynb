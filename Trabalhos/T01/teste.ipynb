{
 "cells": [
  {
   "cell_type": "markdown",
   "id": "04bb7297",
   "metadata": {},
   "source": [
    "# Teste de Tensor Lib"
   ]
  },
  {
   "cell_type": "code",
   "execution_count": 12,
   "id": "35d930ad",
   "metadata": {},
   "outputs": [],
   "source": [
    "import torch"
   ]
  },
  {
   "cell_type": "code",
   "execution_count": 13,
   "id": "68af99fd",
   "metadata": {},
   "outputs": [
    {
     "data": {
      "text/plain": [
       "tensor(0.4316, grad_fn=<PowBackward0>)"
      ]
     },
     "execution_count": 13,
     "metadata": {},
     "output_type": "execute_result"
    }
   ],
   "source": [
    "a = torch.tensor(2., requires_grad=True)\n",
    "b = torch.tensor(3., requires_grad=True)\n",
    "c = 2 * a + b\n",
    "d = torch.sin(c)\n",
    "e = d**2\n",
    "e\n"
   ]
  },
  {
   "cell_type": "code",
   "execution_count": 14,
   "id": "85a77f83",
   "metadata": {},
   "outputs": [],
   "source": [
    "# Calcula as derivadas de trás pra frente\n",
    "e.backward()\n"
   ]
  },
  {
   "cell_type": "code",
   "execution_count": null,
   "id": "84da7db4",
   "metadata": {},
   "outputs": [],
   "source": []
  }
 ],
 "metadata": {
  "kernelspec": {
   "display_name": "Python 3",
   "language": "python",
   "name": "python3"
  },
  "language_info": {
   "codemirror_mode": {
    "name": "ipython",
    "version": 3
   },
   "file_extension": ".py",
   "mimetype": "text/x-python",
   "name": "python",
   "nbconvert_exporter": "python",
   "pygments_lexer": "ipython3",
   "version": "3.12.1"
  }
 },
 "nbformat": 4,
 "nbformat_minor": 5
}
