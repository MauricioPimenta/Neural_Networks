{
 "cells": [
  {
   "cell_type": "markdown",
   "id": "5d77d578",
   "metadata": {},
   "source": [
    "# 🧠🤖 Perceptron: Estrutura, Algoritmo de Treinamento e Intuição Geométrica\n",
    "\n",
    "Este notebook explica: \n",
    "\n",
    "- Estrutura do Perceptron\n",
    "- Algoritmo de treinamento clássico\n",
    "- Intuição geométrica\n",
    "- Demonstração da convergência do algoritmo\n"
   ]
  },
  {
   "cell_type": "markdown",
   "id": "b99d670a",
   "metadata": {},
   "source": [
    "## Definições Básicas"
   ]
  },
  {
   "cell_type": "markdown",
   "id": "ea5a80d8",
   "metadata": {},
   "source": [
    "O trabalho original de McCulloch e Pitts enfocou o modelamento de um neurônio biológico e sua capacidade computacional através da apresentação de vários exemplos de topologias de rede com capacidade de executar de funções Booleanas. Contudo, estes modelos não eram dotados de um algoritmo de treinamento. Foi somente com o trabalho de Frank Rosenblatt em 1958 que o conceito de aprendizado em RNAs foi introduzido. \n",
    "\n",
    "O modelo proposto por Rosenblatt, conhecido como Perceptron era composto por:\n",
    "- uma estrutura de rede tendo como unidades básicas nós do MCP e \n",
    "- uma regra de aprendizado. \n",
    "\n",
    "Alguns anos mais tarde, Rosenblatt demonstrou o teorema de convergência do perceptron, o qual mostra que um nodo MCP treinado com o algoritmo de aprendizado do perceptron sempre converge, caso o problema em questão seja linearmente separável.\n"
   ]
  },
  {
   "cell_type": "markdown",
   "id": "27d2f716",
   "metadata": {},
   "source": [
    "## Topologia\n",
    "\n",
    "A topologia original descrita por Rosenblatt era composta por unidades de entrada (retina), por um nível intermediário formado pelas unidades de associação e por um nível de saída formado pelas unidades de resposta. Embora esta topologia original possua três níveis, ela é conhecida como perceptron de uma única camada, já que **somente o nível de saída (unidades de resposta) possui propriedades adaptativas (era treinada)**. A retina consiste basicamente de unidades sensoras, sendo que as unidades intermediárias de associação, embora sejam formadas por nodos MCP, possuem pesos fixos, definidos antes do período de treinamento. \n",
    "\n",
    "![](_assets/perceptron-estrutura.png)"
   ]
  },
  {
   "cell_type": "markdown",
   "id": "01c92747",
   "metadata": {},
   "source": [
    "## Algoritmo de Treinamento "
   ]
  },
  {
   "cell_type": "markdown",
   "id": "e8b41e8d",
   "metadata": {},
   "source": [
    "De uma maneira geral, durante o processo de adaptação, ou aprendizado, o que se deseja obter é o valor do incremento $Δw$ a ser aplicado ao vetor de pesos $w$ de forma tal que o seu valor atualizado $w(t+1) = w(t) + Δw$ esteja mais próximo da solução desejada do que $w(t)$. Portanto, os algoritmos de aprendizado em RNAs visam ao desenvolvimento de técnicas para a obtenção do vetor de $Δw$ mais apropriado para a obtenção da solução do problema em questão.\n",
    "\n",
    "Para relembrar, em um neurônio MCP, a sua ativação é dada por $y = f(w'^T x')$, onde $w'^T x'$ representa o produto interno entre pesos $w'$ e entrada $x'$. Consequentemente, a condição crítica de disparo do nodo é $w'^T x' = θ$. $w'^T x' - θ = 0$, o que é equivalente a se adicionar um peso com valor $-θ$ às entradas do nodo e conectá-lo a uma entrada com valor fixo $x'_0 = 1$. A nova condição crítica de disparo passa então a ser $w^T x = 0$, onde $w = [-θ, w'_1, w'_2, ..., w'_n]^T$ e $x = [1, x'_1, x'_2, ..., x'_n]^T$.\n",
    "\n",
    "Considere agora o par de treinamento $(x, y)$ para um nodo arbitrário da rede, onde $x$ é o vetor de entrada do nodo e $d$ a saída desejada para a entrada $x$. A saída atual da rede será chamada simplesmente de $p$, podendo-se então definir-se o erro devido à saída atual como sendo $e = d - y$. Para o caso do perceptron, tem-se sempre que $p ∈ \\{0, 1\\}$ e $y ∈ \\{0, 1\\}$, podendo, portanto, haver apenas duas situações possíveis para as quais $e \\neq 0$: $y = 1$ e $p = 0$ ou $y = 0$ e $p = 1$.\n",
    "\n",
    "Para a primeira situação ($y=1$ e $p=0$), tem-se que $e=1$ e $w^T x < 0$, já que $p = 0$, o que implica que $||w|| \\cdot ||x|| cos(w, x) < 0$. Consequentemente, tem-se que $cos(w, x) < 0$ ⇒ $α(w, x) > 90°$, onde $α$ é o ângulo entre os vetores $w$ e $x$. Para esta condição, pode-se observar que uma modificação plausível no vetor $w$ em busca da solução seria somar-se a um vetor que estivesse na direção de $x$ como o vetor $ηx$. Assim, $Δw = ηx$ e $w(t+1) = w(t) + ηx$. Porém, como $e=1$, a equação de atualização de $w$ pode ser escrita de uma forma mais conveniente: $w(t+1) = w(t) + ηex$. A constante $η > 0$ é uma medida da rapidez com que o vetor de pesos será atualizado, sendo comumente chamada de **taxa de aprendizado**. Para valores pequenos de $η$, algumas iterações podem ser necessárias para se chegar à solução.\n",
    "\n",
    "Para a segunda situação em que $y=0$ e $p=1$, pode-se obter a regra de atualização do vetor de pesos de maneira análoga à situação anterior. Para este caso, tem-se então $e = -1$ e $w^T x > 0$, o que implica que $α(w, x) < 90°$. Para que $y = 0$, o vetor de pesos deve ser modificado de forma tal que se obtenha $α(w, x) > 90°$. Consequentemente, uma regra de atualização plausível para este caso seria $w(t+1) = w(t) - ηx$. Como $e = -1$ para este caso, a regra de atualização pode ser escrita também na forma $w(t+1) = w(t) + ηex$. Para as duas situações possíveis ($y = 1$ e $p = 0$ ou $y = 0$ e $p = 1$) chegou-se à mesma expressão para a regra de atualização dos pesos, que pode então ser escrita como a equação geral para atualização dos pesos de um nodo de um perceptron simples:\n",
    "\n",
    "$w(t+1) = w(t) + ηex(t)$ \n",
    "\n"
   ]
  },
  {
   "cell_type": "markdown",
   "id": "079dd6ae",
   "metadata": {},
   "source": [
    "### Pseudocódigo"
   ]
  },
  {
   "cell_type": "markdown",
   "id": "ed3decbe",
   "metadata": {},
   "source": [
    "\n",
    "\n",
    "Dado um conjunto de dados rotulados $ \\{(\\mathbf{x}_i, y_i)\\}_{i=1}^m $, onde $ y_i \\in \\{0, 1\\} $, o algoritmo segue:\n",
    "\n",
    "1. Inicializar $ \\mathbf{w} $ e $ b $\n",
    "2. Para cada época (até convergir):\n",
    "   - Para cada exemplo $ (\\mathbf{x}_i, y_i) $:\n",
    "     - $p_i = MCP(x_i) $\n",
    "     - $e = y_i - p_i $:\n",
    "       - Atualizar pesos $w(t+1) = w(t) + ηex(t)$\n",
    "       - Atualizar bias $b(t+1) = b(t) + ηe$ \n",
    "\n",
    "Note que este algoritmo ajusta os pesos apenas quando a predição está incorreta.\n"
   ]
  },
  {
   "cell_type": "markdown",
   "id": "332c5712",
   "metadata": {},
   "source": [
    "## Intuição Geométrica"
   ]
  },
  {
   "cell_type": "markdown",
   "id": "16c78898",
   "metadata": {},
   "source": [
    "\n",
    "O vetor de pesos $ \\mathbf{w} $ define um hiperplano $ \\mathbf{w}^T \\mathbf{x} + b = 0 $ que separa o espaço de entrada.\n",
    "\n",
    "Cada atualização de pesos move o hiperplano em direção ao ponto mal classificado, reduzindo o erro. Intuitivamente, o algoritmo \"empurra\" o plano para que ele separe corretamente os dados.\n",
    "\n",
    "Se os dados forem linearmente separáveis, o Perceptron encontrará um hiperplano que os separa perfeitamente.\n"
   ]
  },
  {
   "cell_type": "markdown",
   "id": "5436fad8",
   "metadata": {},
   "source": [
    "![](_assets/update.jpeg)"
   ]
  },
  {
   "cell_type": "markdown",
   "id": "30071c4f",
   "metadata": {},
   "source": [
    "## Implementação"
   ]
  },
  {
   "cell_type": "code",
   "execution_count": null,
   "id": "0fb75094",
   "metadata": {},
   "outputs": [
    {
     "name": "stdout",
     "output_type": "stream",
     "text": [
      "epoch 0 acc:  0.42857142857142855\n",
      "epoch 1 acc:  0.42857142857142855\n",
      "epoch 2 acc:  0.42857142857142855\n",
      "epoch 3 acc:  0.42857142857142855\n",
      "epoch 4 acc:  0.42857142857142855\n",
      "epoch 5 acc:  0.42857142857142855\n",
      "epoch 6 acc:  0.8571428571428571\n",
      "epoch 7 acc:  0.42857142857142855\n",
      "epoch 8 acc:  0.42857142857142855\n",
      "epoch 9 acc:  0.5\n",
      "epoch 10 acc:  0.5714285714285714\n",
      "epoch 11 acc:  0.6428571428571429\n",
      "epoch 12 acc:  0.7142857142857143\n",
      "epoch 13 acc:  0.7857142857142857\n",
      "epoch 14 acc:  0.7857142857142857\n",
      "epoch 15 acc:  0.8571428571428571\n",
      "epoch 16 acc:  0.9285714285714286\n",
      "epoch 17 acc:  0.9285714285714286\n",
      "epoch 18 acc:  0.9285714285714286\n",
      "epoch 19 acc:  1.0\n",
      "epoch 20 acc:  1.0\n",
      "epoch 21 acc:  1.0\n",
      "epoch 22 acc:  1.0\n",
      "epoch 23 acc:  1.0\n",
      "epoch 24 acc:  1.0\n",
      "epoch 25 acc:  1.0\n",
      "epoch 26 acc:  1.0\n",
      "epoch 27 acc:  1.0\n",
      "epoch 28 acc:  1.0\n",
      "epoch 29 acc:  1.0\n",
      "Training Accuracy:  1.000\n"
     ]
    },
    {
     "ename": "",
     "evalue": "",
     "output_type": "error",
     "traceback": [
      "\u001b[1;31mThe Kernel crashed while executing code in the current cell or a previous cell. \n",
      "\u001b[1;31mPlease review the code in the cell(s) to identify a possible cause of the failure. \n",
      "\u001b[1;31mClick <a href='https://aka.ms/vscodeJupyterKernelCrash'>here</a> for more info. \n",
      "\u001b[1;31mView Jupyter <a href='command:jupyter.viewOutput'>log</a> for further details."
     ]
    }
   ],
   "source": [
    "\n",
    "import numpy as np\n",
    "\n",
    "# Classe Perceptron\n",
    "class Perceptron:\n",
    "    def __init__(self, initial_weights, initial_bias):\n",
    "        self._weights = initial_weights\n",
    "        self._bias = initial_bias\n",
    "\n",
    "    def train(self, X, y, lr, epochs):\n",
    "        n_samples, n_features = X.shape\n",
    "\n",
    "        history = [{\"weights\": self._weights, \"bias\": self._bias, \"update\": 0}]\n",
    "\n",
    "        for epoch_idx in range(epochs):\n",
    "            sum_updates = []\n",
    "            for idx, x_i in enumerate(X):\n",
    "                y_predicted = self.forward(x_i)\n",
    "\n",
    "                error = y[idx] - y_predicted\n",
    "                update = lr * error\n",
    "\n",
    "                weight_update = update * x_i\n",
    "\n",
    "                self._weights += weight_update\n",
    "                self._bias += update\n",
    "\n",
    "                sum_updates.append(update)\n",
    "\n",
    "            predictions = [self.forward(sample) for sample in X]\n",
    "            acc = np.mean(predictions == y)\n",
    "            print(\"epoch\", epoch_idx, \"acc: \", acc)\n",
    "            history.append({\"weights\": self._weights.copy(), \"bias\": self._bias.copy(), \"update\": np.sum(np.abs(sum_updates))})\n",
    "\n",
    "        return history\n",
    "\n",
    "    def forward(self, x):\n",
    "        linear_output = np.sum(np.multiply(x, self._weights)) + self._bias\n",
    "\n",
    "        if linear_output >= 0:\n",
    "            return 1\n",
    "        else:\n",
    "            return 0\n",
    "\n",
    "# Dados de exemplo\n",
    "X = np.array([[3.5, 4.25],\n",
    "            [4, 3],\n",
    "            [4, 4],\n",
    "            [4.5, 1.75],\n",
    "            [4.9, 4.5],\n",
    "            [5, 4],\n",
    "            [5.5, 2.5],\n",
    "            [5.5, 3.5],\n",
    "            [0.5, 1.5],\n",
    "            [1, 2.5],\n",
    "            [1.25, 0.5],\n",
    "            [1.5, 1.5],\n",
    "            [2, 2],\n",
    "            [2.5, 0.75]])\n",
    "\n",
    "Y = np.array([1, 1, 1, 1, 1, 1, 1, 1, 0, 0, 0, 0, 0, 0])\n",
    "\n",
    "# # Treinando o Perceptron\n",
    "perceptron = Perceptron(np.zeros(2), 2)\n",
    "history = perceptron.train(X, Y, lr=0.5, epochs=30)\n",
    "\n",
    "# acuracia apos o treinamento\n",
    "predictions = [perceptron.forward(sample) for sample in X]\n",
    "acc = np.mean(predictions == Y)\n",
    "print(f\"Training Accuracy: {acc: .3f}\")\n",
    "\n"
   ]
  },
  {
   "cell_type": "markdown",
   "id": "fcaa3efb",
   "metadata": {},
   "source": [
    "A célula abaixo exibe a evolução da fronteira de decisão ao longo do treinamento do Perceptron.\n",
    "\n",
    "*Pode demorar um pouco para executar até o final.*"
   ]
  },
  {
   "cell_type": "code",
   "execution_count": null,
   "id": "56ac8ef8",
   "metadata": {},
   "outputs": [],
   "source": [
    "import numpy as np\n",
    "import matplotlib.pyplot as plt\n",
    "from matplotlib.colors import ListedColormap\n",
    "\n",
    "\n",
    "def draw_classification_region(X, y, perceptron):\n",
    "    cmap_light = ListedColormap(['#ADD8E6', '#AAFFAA', '#ffdfd4'])\n",
    "\n",
    "    h = .01\n",
    "\n",
    "    x_min = X[:, 0].min() - 0.5\n",
    "    x_max = X[:, 0].max() + 0.5\n",
    "    y_min = X[:, 1].min() - 0.5\n",
    "    y_max = X[:, 1].max() + 0.5\n",
    "\n",
    "    xx, yy = np.meshgrid(np.arange(x_min, x_max, h),\n",
    "                        np.arange(y_min, y_max, h))\n",
    "\n",
    "    Z = np.array([perceptron.forward([x1, x2]) for x1, x2 in zip(xx.ravel(), yy.ravel())])\n",
    "    Z = Z.reshape(xx.shape)\n",
    "\n",
    "    plt.pcolormesh(xx, yy, Z, cmap = cmap_light, shading = 'auto')\n",
    "\n",
    "    plt.scatter(X[y == 1, 0], X[y == 1, 1], color = 'orange', label = 'Classe 1')\n",
    "    plt.scatter(X[y == 0, 0], X[y == 0, 1], color = 'blue', label = 'Classe 0')\n",
    "\n",
    "    plt.xlabel('x1')\n",
    "    plt.ylabel('x2')\n",
    "\n",
    "    plt.xlim((x_min, x_max))\n",
    "    plt.ylim((y_min, y_max))\n",
    "    plt.legend(loc = 'best');\n",
    "\n",
    "\n",
    "plt.figure(figsize=(25, 20))\n",
    "for idx, epoch_data in enumerate(history):\n",
    "    perceptron._weights = epoch_data[\"weights\"]\n",
    "    perceptron._bias = epoch_data[\"bias\"]\n",
    "    predictions = np.array([perceptron.forward(x) for x in X])\n",
    "    accuracy = np.mean(predictions == Y)\n",
    "    plt.subplot(4, 8, idx + 1)\n",
    "    plt.title(f\"{idx} - acc: {accuracy:.3f}\")\n",
    "    draw_classification_region(X, Y, perceptron)\n",
    "\n",
    "\n",
    "plt.figure()\n",
    "plt.title(\"Update size\")\n",
    "epochs_ids = np.array(range(len(history))) + 1\n",
    "update_size = [np.sum(e[\"update\"]) for e in history]\n",
    "plt.plot(epochs_ids, update_size)\n",
    "plt.show()"
   ]
  },
  {
   "cell_type": "markdown",
   "id": "0261119f",
   "metadata": {},
   "source": [
    "## Atividade: \n",
    "\n",
    "O código abaixo mostra como fazer download da base de dados MNIST contendo digitos manuscritos. \n",
    "\n",
    "Selecione um conjunto aleatorio de 30 imagens de números 0 e 30 imagens de números 7.\n",
    "\n",
    "Treine e avalie a performance do perceptron na classificação usando 20 imagens de cada grupo. \n",
    "\n",
    "Em seguida, plote as 10 imagens restantes de cada grupo com a classe predita e esperada.\n",
    "\n"
   ]
  },
  {
   "cell_type": "code",
   "execution_count": null,
   "id": "ee44523e",
   "metadata": {},
   "outputs": [
    {
     "name": "stdout",
     "output_type": "stream",
     "text": [
      "x shape: (70000, 784) y shape: (70000,)\n"
     ]
    }
   ],
   "source": [
    "import matplotlib.pyplot\n",
    "from sklearn.datasets import fetch_openml\n",
    "\n",
    "mnist = fetch_openml('mnist_784', as_frame=False, cache=False)\n",
    "mnist_X = mnist.data.astype('float32')\n",
    "mnist_y = mnist.target.astype('int64')\n",
    "mnist_X /= 255.0\n",
    "\n",
    "print(\"x shape:\", mnist_X.shape, \"y shape:\", mnist_y.shape)"
   ]
  },
  {
   "cell_type": "code",
   "execution_count": null,
   "id": "6de87216",
   "metadata": {},
   "outputs": [
    {
     "data": {
      "image/png": "[encoded data removed]",
      "text/plain": [
       "<Figure size 640x480 with 1 Axes>"
      ]
     },
     "metadata": {},
     "output_type": "display_data"
    }
   ],
   "source": [
    "img = mnist_X[0].reshape((28, 28))\n",
    "plt.imshow(img)\n",
    "plt.title(str(mnist_y[0]))\n",
    "plt.show()"
   ]
  }
 ],
 "metadata": {
  "kernelspec": {
   "display_name": "Python 3",
   "language": "python",
   "name": "python3"
  },
  "language_info": {
   "codemirror_mode": {
    "name": "ipython",
    "version": 3
   },
   "file_extension": ".py",
   "mimetype": "text/x-python",
   "name": "python",
   "nbconvert_exporter": "python",
   "pygments_lexer": "ipython3",
   "version": "3.12.1"
  }
 },
 "nbformat": 4,
 "nbformat_minor": 5
}
